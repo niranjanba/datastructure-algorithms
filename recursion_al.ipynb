{
 "cells": [
  {
   "cell_type": "code",
   "execution_count": 12,
   "metadata": {},
   "outputs": [
    {
     "data": {
      "text/plain": [
       "[1, 2, 6, 24]"
      ]
     },
     "execution_count": 12,
     "metadata": {},
     "output_type": "execute_result"
    }
   ],
   "source": [
    "def factorial(n):\n",
    "    assert n >= 0 and int(n) == n, 'the num must be positive integer'\n",
    "    if n in [0,1]:\n",
    "        return 1\n",
    "    return n*factorial(n-1)\n",
    "l = list(map(factorial,[1,2,3,4]))\n",
    "l"
   ]
  },
  {
   "cell_type": "code",
   "execution_count": 1,
   "metadata": {},
   "outputs": [],
   "source": [
    "def factorial(n):\n",
    "#     assert n>=0 and int(n) == n, \"n must be an positive integer\"\n",
    "    if n in [0,1]:\n",
    "        return 1\n",
    "    else:\n",
    "        return n*factorial(n-1)"
   ]
  },
  {
   "cell_type": "code",
   "execution_count": 2,
   "metadata": {},
   "outputs": [
    {
     "data": {
      "text/plain": [
       "120"
      ]
     },
     "execution_count": 2,
     "metadata": {},
     "output_type": "execute_result"
    }
   ],
   "source": [
    "factorial(5)"
   ]
  },
  {
   "cell_type": "code",
   "execution_count": 2,
   "metadata": {},
   "outputs": [],
   "source": [
    "import time"
   ]
  },
  {
   "cell_type": "code",
   "execution_count": 1,
   "metadata": {},
   "outputs": [],
   "source": [
    "def fibonacci(n):\n",
    "    if n in [0,1]:\n",
    "        return n\n",
    "    else:\n",
    "        return fibonacci(n-1)+fibonacci(n-2)\n",
    "    "
   ]
  },
  {
   "cell_type": "code",
   "execution_count": null,
   "metadata": {},
   "outputs": [],
   "source": [
    "start = time.time()\n",
    "print(fibonacci(30))\n",
    "end = time.time()\n",
    "print(end - start)"
   ]
  },
  {
   "cell_type": "code",
   "execution_count": 6,
   "metadata": {},
   "outputs": [],
   "source": [
    "def fib(n):\n",
    "    \n",
    "    count = 0\n",
    "    res = 0\n",
    "    n1,n2 = 0,1\n",
    "    series = []\n",
    "    if n in [0,1]:\n",
    "        return n\n",
    "    else:\n",
    "        while count < n+1:\n",
    "            series.append(n1)\n",
    "            nth = n1 + n2\n",
    "            n1 = n2\n",
    "            n2 = nth\n",
    "            count+=1\n",
    "        return series"
   ]
  },
  {
   "cell_type": "code",
   "execution_count": 7,
   "metadata": {},
   "outputs": [
    {
     "data": {
      "text/plain": [
       "[0, 1, 1, 2, 3, 5]"
      ]
     },
     "execution_count": 7,
     "metadata": {},
     "output_type": "execute_result"
    }
   ],
   "source": [
    "fib(5)"
   ]
  },
  {
   "cell_type": "code",
   "execution_count": 8,
   "metadata": {},
   "outputs": [
    {
     "ename": "SyntaxError",
     "evalue": "invalid syntax (<ipython-input-8-064d7d6c68cc>, line 2)",
     "output_type": "error",
     "traceback": [
      "\u001b[1;36m  File \u001b[1;32m\"<ipython-input-8-064d7d6c68cc>\"\u001b[1;36m, line \u001b[1;32m2\u001b[0m\n\u001b[1;33m    if len(s) == 0\u001b[0m\n\u001b[1;37m                  ^\u001b[0m\n\u001b[1;31mSyntaxError\u001b[0m\u001b[1;31m:\u001b[0m invalid syntax\n"
     ]
    }
   ],
   "source": [
    "def numDecodings(s: str) -> int:\n",
    "    if len(s) == 0\n",
    "    or (len(s) == 1\n",
    "        and s[0] == '0'):\n",
    "        return 0\n",
    "    return numDecodingsHelper(s, len(s))\n",
    " \n",
    " \n",
    "def numDecodingsHelper(s: str, n: int) -> int:\n",
    "    if n == 0 or n == 1:\n",
    "        return 1\n",
    "    count = 0\n",
    "    if s[n-1] > \"0\":\n",
    "        count = numDecodingsHelper(s, n-1)\n",
    "    if (s[n - 2] == '1'\n",
    "        or (s[n - 2] == '2'\n",
    "            and s[n - 1] < '7')):\n",
    "        count += numDecodingsHelper(s, n - 2)\n",
    "    return count\n",
    " \n",
    " \n",
    "# Driver code\n",
    "digits = \"12345\"\n",
    "print(\"Count is \", numDecodings(digits))"
   ]
  },
  {
   "cell_type": "code",
   "execution_count": 11,
   "metadata": {},
   "outputs": [
    {
     "name": "stdout",
     "output_type": "stream",
     "text": [
      "Count is 3\n"
     ]
    }
   ],
   "source": [
    "def countDecodingDP(digits, n):\n",
    " \n",
    "    count = [0] * (n + 1); # A table to store\n",
    "                           # results of subproblems\n",
    "    count[0] = 1;\n",
    "    count[1] = 1;\n",
    " \n",
    "    for i in range(2, n + 1):\n",
    " \n",
    "        count[i] = 0;\n",
    " \n",
    "        # If the last digit is not 0, then last\n",
    "        # digit must add to the number of words\n",
    "        if (digits[i - 1] > '0'):\n",
    "            count[i] = count[i - 1];\n",
    " \n",
    "        # If second last digit is smaller than 2\n",
    "        # and last digit is smaller than 7, then\n",
    "        # last two digits form a valid character\n",
    "        if (digits[i - 2] == '1' or\n",
    "           (digits[i - 2] == '2' and\n",
    "            digits[i - 1] < '7') ):\n",
    "            count[i] += count[i - 2];\n",
    " \n",
    "    return count[n];\n",
    " \n",
    "# Driver Code\n",
    "digits = \"123\";\n",
    "n = len(digits);\n",
    "print(\"Count is\" ,\n",
    "       countDecodingDP(digits, n));\n",
    " "
   ]
  },
  {
   "cell_type": "code",
   "execution_count": null,
   "metadata": {},
   "outputs": [],
   "source": []
  }
 ],
 "metadata": {
  "kernelspec": {
   "display_name": "Python 3",
   "language": "python",
   "name": "python3"
  },
  "language_info": {
   "codemirror_mode": {
    "name": "ipython",
    "version": 3
   },
   "file_extension": ".py",
   "mimetype": "text/x-python",
   "name": "python",
   "nbconvert_exporter": "python",
   "pygments_lexer": "ipython3",
   "version": "3.7.6"
  }
 },
 "nbformat": 4,
 "nbformat_minor": 4
}
